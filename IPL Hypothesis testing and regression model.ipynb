{
 "cells": [
  {
   "cell_type": "code",
   "execution_count": 4,
   "metadata": {
    "id": "i0DIAZXFeNx1"
   },
   "outputs": [],
   "source": [
    "import pandas as pd\n",
    "import numpy as np\n",
    "import matplotlib as mpl\n",
    "from matplotlib.animation import FuncAnimation\n",
    "import matplotlib.pyplot as plt\n",
    "import seaborn as sns\n",
    "%matplotlib inline"
   ]
  },
  {
   "cell_type": "markdown",
   "metadata": {
    "id": "sEuLWIke7WEk"
   },
   "source": [
    "# Importing data sets "
   ]
  },
  {
   "cell_type": "code",
   "execution_count": 5,
   "metadata": {
    "colab": {
     "base_uri": "https://localhost:8080/",
     "height": 400
    },
    "id": "IHAFA1cYgn3W",
    "outputId": "6217e04d-0231-41b5-f9eb-c2cebe72e08f"
   },
   "outputs": [
    {
     "data": {
      "text/html": [
       "<div>\n",
       "<style scoped>\n",
       "    .dataframe tbody tr th:only-of-type {\n",
       "        vertical-align: middle;\n",
       "    }\n",
       "\n",
       "    .dataframe tbody tr th {\n",
       "        vertical-align: top;\n",
       "    }\n",
       "\n",
       "    .dataframe thead th {\n",
       "        text-align: right;\n",
       "    }\n",
       "</style>\n",
       "<table border=\"1\" class=\"dataframe\">\n",
       "  <thead>\n",
       "    <tr style=\"text-align: right;\">\n",
       "      <th></th>\n",
       "      <th>id</th>\n",
       "      <th>season</th>\n",
       "      <th>city</th>\n",
       "      <th>date</th>\n",
       "      <th>team1</th>\n",
       "      <th>team2</th>\n",
       "      <th>toss_winner</th>\n",
       "      <th>toss_decision</th>\n",
       "      <th>result</th>\n",
       "      <th>dl_applied</th>\n",
       "      <th>winner</th>\n",
       "      <th>win_by_runs</th>\n",
       "      <th>win_by_wickets</th>\n",
       "      <th>player_of_match</th>\n",
       "      <th>venue</th>\n",
       "      <th>umpire1</th>\n",
       "      <th>umpire2</th>\n",
       "      <th>umpire3</th>\n",
       "    </tr>\n",
       "  </thead>\n",
       "  <tbody>\n",
       "    <tr>\n",
       "      <th>0</th>\n",
       "      <td>1</td>\n",
       "      <td>2008</td>\n",
       "      <td>Bangalore</td>\n",
       "      <td>2008-04-18</td>\n",
       "      <td>Kolkata Knight Riders</td>\n",
       "      <td>Royal Challengers Bangalore</td>\n",
       "      <td>Royal Challengers Bangalore</td>\n",
       "      <td>field</td>\n",
       "      <td>normal</td>\n",
       "      <td>0</td>\n",
       "      <td>Kolkata Knight Riders</td>\n",
       "      <td>140</td>\n",
       "      <td>0</td>\n",
       "      <td>BB McCullum</td>\n",
       "      <td>M Chinnaswamy Stadium</td>\n",
       "      <td>Asad Rauf</td>\n",
       "      <td>RE Koertzen</td>\n",
       "      <td>NaN</td>\n",
       "    </tr>\n",
       "    <tr>\n",
       "      <th>1</th>\n",
       "      <td>2</td>\n",
       "      <td>2008</td>\n",
       "      <td>Chandigarh</td>\n",
       "      <td>2008-04-19</td>\n",
       "      <td>Chennai Super Kings</td>\n",
       "      <td>Kings XI Punjab</td>\n",
       "      <td>Chennai Super Kings</td>\n",
       "      <td>bat</td>\n",
       "      <td>normal</td>\n",
       "      <td>0</td>\n",
       "      <td>Chennai Super Kings</td>\n",
       "      <td>33</td>\n",
       "      <td>0</td>\n",
       "      <td>MEK Hussey</td>\n",
       "      <td>Punjab Cricket Association Stadium, Mohali</td>\n",
       "      <td>MR Benson</td>\n",
       "      <td>SL Shastri</td>\n",
       "      <td>NaN</td>\n",
       "    </tr>\n",
       "    <tr>\n",
       "      <th>2</th>\n",
       "      <td>3</td>\n",
       "      <td>2008</td>\n",
       "      <td>Delhi</td>\n",
       "      <td>2008-04-19</td>\n",
       "      <td>Rajasthan Royals</td>\n",
       "      <td>Delhi Daredevils</td>\n",
       "      <td>Rajasthan Royals</td>\n",
       "      <td>bat</td>\n",
       "      <td>normal</td>\n",
       "      <td>0</td>\n",
       "      <td>Delhi Daredevils</td>\n",
       "      <td>0</td>\n",
       "      <td>9</td>\n",
       "      <td>MF Maharoof</td>\n",
       "      <td>Feroz Shah Kotla</td>\n",
       "      <td>Aleem Dar</td>\n",
       "      <td>GA Pratapkumar</td>\n",
       "      <td>NaN</td>\n",
       "    </tr>\n",
       "    <tr>\n",
       "      <th>3</th>\n",
       "      <td>4</td>\n",
       "      <td>2008</td>\n",
       "      <td>Mumbai</td>\n",
       "      <td>2008-04-20</td>\n",
       "      <td>Mumbai Indians</td>\n",
       "      <td>Royal Challengers Bangalore</td>\n",
       "      <td>Mumbai Indians</td>\n",
       "      <td>bat</td>\n",
       "      <td>normal</td>\n",
       "      <td>0</td>\n",
       "      <td>Royal Challengers Bangalore</td>\n",
       "      <td>0</td>\n",
       "      <td>5</td>\n",
       "      <td>MV Boucher</td>\n",
       "      <td>Wankhede Stadium</td>\n",
       "      <td>SJ Davis</td>\n",
       "      <td>DJ Harper</td>\n",
       "      <td>NaN</td>\n",
       "    </tr>\n",
       "    <tr>\n",
       "      <th>4</th>\n",
       "      <td>5</td>\n",
       "      <td>2008</td>\n",
       "      <td>Kolkata</td>\n",
       "      <td>2008-04-20</td>\n",
       "      <td>Deccan Chargers</td>\n",
       "      <td>Kolkata Knight Riders</td>\n",
       "      <td>Deccan Chargers</td>\n",
       "      <td>bat</td>\n",
       "      <td>normal</td>\n",
       "      <td>0</td>\n",
       "      <td>Kolkata Knight Riders</td>\n",
       "      <td>0</td>\n",
       "      <td>5</td>\n",
       "      <td>DJ Hussey</td>\n",
       "      <td>Eden Gardens</td>\n",
       "      <td>BF Bowden</td>\n",
       "      <td>K Hariharan</td>\n",
       "      <td>NaN</td>\n",
       "    </tr>\n",
       "  </tbody>\n",
       "</table>\n",
       "</div>"
      ],
      "text/plain": [
       "   id  season        city        date                  team1  \\\n",
       "0   1    2008   Bangalore  2008-04-18  Kolkata Knight Riders   \n",
       "1   2    2008  Chandigarh  2008-04-19    Chennai Super Kings   \n",
       "2   3    2008       Delhi  2008-04-19       Rajasthan Royals   \n",
       "3   4    2008      Mumbai  2008-04-20         Mumbai Indians   \n",
       "4   5    2008     Kolkata  2008-04-20        Deccan Chargers   \n",
       "\n",
       "                         team2                  toss_winner toss_decision  \\\n",
       "0  Royal Challengers Bangalore  Royal Challengers Bangalore         field   \n",
       "1              Kings XI Punjab          Chennai Super Kings           bat   \n",
       "2             Delhi Daredevils             Rajasthan Royals           bat   \n",
       "3  Royal Challengers Bangalore               Mumbai Indians           bat   \n",
       "4        Kolkata Knight Riders              Deccan Chargers           bat   \n",
       "\n",
       "   result  dl_applied                       winner  win_by_runs  \\\n",
       "0  normal           0        Kolkata Knight Riders          140   \n",
       "1  normal           0          Chennai Super Kings           33   \n",
       "2  normal           0             Delhi Daredevils            0   \n",
       "3  normal           0  Royal Challengers Bangalore            0   \n",
       "4  normal           0        Kolkata Knight Riders            0   \n",
       "\n",
       "   win_by_wickets player_of_match                                       venue  \\\n",
       "0               0     BB McCullum                       M Chinnaswamy Stadium   \n",
       "1               0      MEK Hussey  Punjab Cricket Association Stadium, Mohali   \n",
       "2               9     MF Maharoof                            Feroz Shah Kotla   \n",
       "3               5      MV Boucher                            Wankhede Stadium   \n",
       "4               5       DJ Hussey                                Eden Gardens   \n",
       "\n",
       "     umpire1         umpire2  umpire3  \n",
       "0  Asad Rauf     RE Koertzen      NaN  \n",
       "1  MR Benson      SL Shastri      NaN  \n",
       "2  Aleem Dar  GA Pratapkumar      NaN  \n",
       "3   SJ Davis       DJ Harper      NaN  \n",
       "4  BF Bowden     K Hariharan      NaN  "
      ]
     },
     "execution_count": 5,
     "metadata": {},
     "output_type": "execute_result"
    }
   ],
   "source": [
    "url='https://raw.githubusercontent.com/12345k/IPL-Dataset/master/IPL/data.csv'\n",
    "ipl=pd.read_csv(url)\n",
    "ipl.head()"
   ]
  },
  {
   "cell_type": "code",
   "execution_count": 7,
   "metadata": {
    "colab": {
     "base_uri": "https://localhost:8080/",
     "height": 639
    },
    "id": "P1zmpd00hvSQ",
    "outputId": "06d901ed-4e46-4743-d808-27faab42229c"
   },
   "outputs": [
    {
     "data": {
      "text/html": [
       "<div>\n",
       "<style scoped>\n",
       "    .dataframe tbody tr th:only-of-type {\n",
       "        vertical-align: middle;\n",
       "    }\n",
       "\n",
       "    .dataframe tbody tr th {\n",
       "        vertical-align: top;\n",
       "    }\n",
       "\n",
       "    .dataframe thead th {\n",
       "        text-align: right;\n",
       "    }\n",
       "</style>\n",
       "<table border=\"1\" class=\"dataframe\">\n",
       "  <thead>\n",
       "    <tr style=\"text-align: right;\">\n",
       "      <th></th>\n",
       "      <th>PLAYER</th>\n",
       "      <th>Mat</th>\n",
       "      <th>Inns</th>\n",
       "      <th>NO</th>\n",
       "      <th>Runs</th>\n",
       "      <th>HS</th>\n",
       "      <th>Avg</th>\n",
       "      <th>BF</th>\n",
       "      <th>SR</th>\n",
       "      <th>100</th>\n",
       "      <th>50</th>\n",
       "      <th>4s</th>\n",
       "      <th>6s</th>\n",
       "      <th>Team</th>\n",
       "    </tr>\n",
       "  </thead>\n",
       "  <tbody>\n",
       "    <tr>\n",
       "      <th>0</th>\n",
       "      <td>Virat Kohli</td>\n",
       "      <td>177.0</td>\n",
       "      <td>169.0</td>\n",
       "      <td>26.0</td>\n",
       "      <td>5412.0</td>\n",
       "      <td>113</td>\n",
       "      <td>37.84</td>\n",
       "      <td>4,112</td>\n",
       "      <td>131.61</td>\n",
       "      <td>5.0</td>\n",
       "      <td>36.0</td>\n",
       "      <td>480.0</td>\n",
       "      <td>190.0</td>\n",
       "      <td>Royal Challengers Bangalore</td>\n",
       "    </tr>\n",
       "    <tr>\n",
       "      <th>1</th>\n",
       "      <td>Suresh Raina</td>\n",
       "      <td>193.0</td>\n",
       "      <td>189.0</td>\n",
       "      <td>28.0</td>\n",
       "      <td>5368.0</td>\n",
       "      <td>100*</td>\n",
       "      <td>33.34</td>\n",
       "      <td>3,914</td>\n",
       "      <td>137.14</td>\n",
       "      <td>1.0</td>\n",
       "      <td>38.0</td>\n",
       "      <td>493.0</td>\n",
       "      <td>194.0</td>\n",
       "      <td>Chennai Super Kings</td>\n",
       "    </tr>\n",
       "    <tr>\n",
       "      <th>2</th>\n",
       "      <td>Rohit Sharma</td>\n",
       "      <td>188.0</td>\n",
       "      <td>183.0</td>\n",
       "      <td>28.0</td>\n",
       "      <td>4898.0</td>\n",
       "      <td>109*</td>\n",
       "      <td>31.60</td>\n",
       "      <td>3,744</td>\n",
       "      <td>130.82</td>\n",
       "      <td>1.0</td>\n",
       "      <td>36.0</td>\n",
       "      <td>431.0</td>\n",
       "      <td>194.0</td>\n",
       "      <td>Mumbai Indians</td>\n",
       "    </tr>\n",
       "    <tr>\n",
       "      <th>3</th>\n",
       "      <td>David Warner</td>\n",
       "      <td>126.0</td>\n",
       "      <td>126.0</td>\n",
       "      <td>17.0</td>\n",
       "      <td>4706.0</td>\n",
       "      <td>126</td>\n",
       "      <td>43.17</td>\n",
       "      <td>3,305</td>\n",
       "      <td>142.39</td>\n",
       "      <td>4.0</td>\n",
       "      <td>44.0</td>\n",
       "      <td>458.0</td>\n",
       "      <td>181.0</td>\n",
       "      <td>Sunrisers Hyderabad</td>\n",
       "    </tr>\n",
       "    <tr>\n",
       "      <th>4</th>\n",
       "      <td>Shikhar Dhawan</td>\n",
       "      <td>159.0</td>\n",
       "      <td>158.0</td>\n",
       "      <td>21.0</td>\n",
       "      <td>4579.0</td>\n",
       "      <td>97*</td>\n",
       "      <td>33.42</td>\n",
       "      <td>3,669</td>\n",
       "      <td>124.80</td>\n",
       "      <td>0.0</td>\n",
       "      <td>37.0</td>\n",
       "      <td>524.0</td>\n",
       "      <td>96.0</td>\n",
       "      <td>Delhi Capitals</td>\n",
       "    </tr>\n",
       "    <tr>\n",
       "      <th>5</th>\n",
       "      <td>Chris Gayle</td>\n",
       "      <td>125.0</td>\n",
       "      <td>124.0</td>\n",
       "      <td>15.0</td>\n",
       "      <td>4484.0</td>\n",
       "      <td>175*</td>\n",
       "      <td>41.13</td>\n",
       "      <td>2,969</td>\n",
       "      <td>151.02</td>\n",
       "      <td>6.0</td>\n",
       "      <td>28.0</td>\n",
       "      <td>369.0</td>\n",
       "      <td>326.0</td>\n",
       "      <td>Kings XI Punjab</td>\n",
       "    </tr>\n",
       "    <tr>\n",
       "      <th>6</th>\n",
       "      <td>MS Dhoni</td>\n",
       "      <td>190.0</td>\n",
       "      <td>170.0</td>\n",
       "      <td>65.0</td>\n",
       "      <td>4432.0</td>\n",
       "      <td>84*</td>\n",
       "      <td>42.20</td>\n",
       "      <td>3,215</td>\n",
       "      <td>137.85</td>\n",
       "      <td>0.0</td>\n",
       "      <td>23.0</td>\n",
       "      <td>297.0</td>\n",
       "      <td>209.0</td>\n",
       "      <td>Chennai Super Kings</td>\n",
       "    </tr>\n",
       "    <tr>\n",
       "      <th>7</th>\n",
       "      <td>Robin Uthappa</td>\n",
       "      <td>177.0</td>\n",
       "      <td>170.0</td>\n",
       "      <td>17.0</td>\n",
       "      <td>4411.0</td>\n",
       "      <td>87</td>\n",
       "      <td>28.83</td>\n",
       "      <td>3,380</td>\n",
       "      <td>130.50</td>\n",
       "      <td>0.0</td>\n",
       "      <td>24.0</td>\n",
       "      <td>435.0</td>\n",
       "      <td>156.0</td>\n",
       "      <td>Rajasthan Royals</td>\n",
       "    </tr>\n",
       "    <tr>\n",
       "      <th>8</th>\n",
       "      <td>AB de Villiers</td>\n",
       "      <td>154.0</td>\n",
       "      <td>142.0</td>\n",
       "      <td>32.0</td>\n",
       "      <td>4395.0</td>\n",
       "      <td>133*</td>\n",
       "      <td>39.95</td>\n",
       "      <td>2,906</td>\n",
       "      <td>151.23</td>\n",
       "      <td>3.0</td>\n",
       "      <td>33.0</td>\n",
       "      <td>357.0</td>\n",
       "      <td>212.0</td>\n",
       "      <td>Royal Challengers Bangalore</td>\n",
       "    </tr>\n",
       "    <tr>\n",
       "      <th>9</th>\n",
       "      <td>Gautam Gambhir</td>\n",
       "      <td>154.0</td>\n",
       "      <td>152.0</td>\n",
       "      <td>17.0</td>\n",
       "      <td>4217.0</td>\n",
       "      <td>93</td>\n",
       "      <td>31.23</td>\n",
       "      <td>3,404</td>\n",
       "      <td>123.88</td>\n",
       "      <td>0.0</td>\n",
       "      <td>36.0</td>\n",
       "      <td>491.0</td>\n",
       "      <td>59.0</td>\n",
       "      <td>Delhi Capitals</td>\n",
       "    </tr>\n",
       "    <tr>\n",
       "      <th>10</th>\n",
       "      <td>Ajinkya Rahane</td>\n",
       "      <td>140.0</td>\n",
       "      <td>132.0</td>\n",
       "      <td>16.0</td>\n",
       "      <td>3820.0</td>\n",
       "      <td>105*</td>\n",
       "      <td>32.93</td>\n",
       "      <td>3,133</td>\n",
       "      <td>121.92</td>\n",
       "      <td>2.0</td>\n",
       "      <td>27.0</td>\n",
       "      <td>404.0</td>\n",
       "      <td>74.0</td>\n",
       "      <td>Delhi Capitals</td>\n",
       "    </tr>\n",
       "    <tr>\n",
       "      <th>11</th>\n",
       "      <td>Dinesh Karthik</td>\n",
       "      <td>182.0</td>\n",
       "      <td>163.0</td>\n",
       "      <td>28.0</td>\n",
       "      <td>3654.0</td>\n",
       "      <td>97*</td>\n",
       "      <td>27.06</td>\n",
       "      <td>2,815</td>\n",
       "      <td>129.80</td>\n",
       "      <td>0.0</td>\n",
       "      <td>18.0</td>\n",
       "      <td>357.0</td>\n",
       "      <td>101.0</td>\n",
       "      <td>Kolkata Knight Riders</td>\n",
       "    </tr>\n",
       "    <tr>\n",
       "      <th>12</th>\n",
       "      <td>Shane Watson</td>\n",
       "      <td>134.0</td>\n",
       "      <td>130.0</td>\n",
       "      <td>15.0</td>\n",
       "      <td>3575.0</td>\n",
       "      <td>117*</td>\n",
       "      <td>31.08</td>\n",
       "      <td>2,562</td>\n",
       "      <td>139.53</td>\n",
       "      <td>4.0</td>\n",
       "      <td>19.0</td>\n",
       "      <td>343.0</td>\n",
       "      <td>177.0</td>\n",
       "      <td>Chennai Super Kings</td>\n",
       "    </tr>\n",
       "    <tr>\n",
       "      <th>13</th>\n",
       "      <td>Ambati Rayudu</td>\n",
       "      <td>147.0</td>\n",
       "      <td>140.0</td>\n",
       "      <td>25.0</td>\n",
       "      <td>3300.0</td>\n",
       "      <td>100*</td>\n",
       "      <td>28.69</td>\n",
       "      <td>2,620</td>\n",
       "      <td>125.95</td>\n",
       "      <td>1.0</td>\n",
       "      <td>18.0</td>\n",
       "      <td>278.0</td>\n",
       "      <td>120.0</td>\n",
       "      <td>Chennai Super Kings</td>\n",
       "    </tr>\n",
       "    <tr>\n",
       "      <th>14</th>\n",
       "      <td>Yusuf Pathan</td>\n",
       "      <td>174.0</td>\n",
       "      <td>154.0</td>\n",
       "      <td>44.0</td>\n",
       "      <td>3204.0</td>\n",
       "      <td>100</td>\n",
       "      <td>29.12</td>\n",
       "      <td>2,241</td>\n",
       "      <td>142.97</td>\n",
       "      <td>1.0</td>\n",
       "      <td>13.0</td>\n",
       "      <td>262.0</td>\n",
       "      <td>158.0</td>\n",
       "      <td>Sunrisers Hyderabad</td>\n",
       "    </tr>\n",
       "    <tr>\n",
       "      <th>15</th>\n",
       "      <td>BrendonMCullum</td>\n",
       "      <td>109.0</td>\n",
       "      <td>109.0</td>\n",
       "      <td>5.0</td>\n",
       "      <td>2880.0</td>\n",
       "      <td>158*</td>\n",
       "      <td>27.69</td>\n",
       "      <td>2,186</td>\n",
       "      <td>131.74</td>\n",
       "      <td>2.0</td>\n",
       "      <td>13.0</td>\n",
       "      <td>293.0</td>\n",
       "      <td>130.0</td>\n",
       "      <td>Royal Challengers Bangalore</td>\n",
       "    </tr>\n",
       "    <tr>\n",
       "      <th>16</th>\n",
       "      <td>Parthiv Patel</td>\n",
       "      <td>139.0</td>\n",
       "      <td>137.0</td>\n",
       "      <td>11.0</td>\n",
       "      <td>2848.0</td>\n",
       "      <td>81</td>\n",
       "      <td>22.60</td>\n",
       "      <td>2,358</td>\n",
       "      <td>120.78</td>\n",
       "      <td>0.0</td>\n",
       "      <td>13.0</td>\n",
       "      <td>365.0</td>\n",
       "      <td>49.0</td>\n",
       "      <td>Royal Challengers Bangalore</td>\n",
       "    </tr>\n",
       "    <tr>\n",
       "      <th>17</th>\n",
       "      <td>Manish Pandey</td>\n",
       "      <td>130.0</td>\n",
       "      <td>120.0</td>\n",
       "      <td>23.0</td>\n",
       "      <td>2843.0</td>\n",
       "      <td>114*</td>\n",
       "      <td>29.30</td>\n",
       "      <td>2,353</td>\n",
       "      <td>120.82</td>\n",
       "      <td>1.0</td>\n",
       "      <td>15.0</td>\n",
       "      <td>253.0</td>\n",
       "      <td>75.0</td>\n",
       "      <td>Sunrisers Hyderabad</td>\n",
       "    </tr>\n",
       "    <tr>\n",
       "      <th>18</th>\n",
       "      <td>Kieron Pollard</td>\n",
       "      <td>148.0</td>\n",
       "      <td>135.0</td>\n",
       "      <td>39.0</td>\n",
       "      <td>2755.0</td>\n",
       "      <td>83</td>\n",
       "      <td>28.69</td>\n",
       "      <td>1,877</td>\n",
       "      <td>146.77</td>\n",
       "      <td>0.0</td>\n",
       "      <td>14.0</td>\n",
       "      <td>181.0</td>\n",
       "      <td>176.0</td>\n",
       "      <td>Mumbai Indians</td>\n",
       "    </tr>\n",
       "    <tr>\n",
       "      <th>19</th>\n",
       "      <td>Yuvraj Singh</td>\n",
       "      <td>132.0</td>\n",
       "      <td>126.0</td>\n",
       "      <td>15.0</td>\n",
       "      <td>2750.0</td>\n",
       "      <td>83</td>\n",
       "      <td>24.77</td>\n",
       "      <td>2,120</td>\n",
       "      <td>129.71</td>\n",
       "      <td>0.0</td>\n",
       "      <td>13.0</td>\n",
       "      <td>217.0</td>\n",
       "      <td>149.0</td>\n",
       "      <td>Mumbai Indians</td>\n",
       "    </tr>\n",
       "  </tbody>\n",
       "</table>\n",
       "</div>"
      ],
      "text/plain": [
       "            PLAYER    Mat   Inns    NO    Runs    HS    Avg     BF      SR  \\\n",
       "0      Virat Kohli  177.0  169.0  26.0  5412.0   113  37.84  4,112  131.61   \n",
       "1     Suresh Raina  193.0  189.0  28.0  5368.0  100*  33.34  3,914  137.14   \n",
       "2     Rohit Sharma  188.0  183.0  28.0  4898.0  109*  31.60  3,744  130.82   \n",
       "3     David Warner  126.0  126.0  17.0  4706.0   126  43.17  3,305  142.39   \n",
       "4   Shikhar Dhawan  159.0  158.0  21.0  4579.0   97*  33.42  3,669  124.80   \n",
       "5      Chris Gayle  125.0  124.0  15.0  4484.0  175*  41.13  2,969  151.02   \n",
       "6         MS Dhoni  190.0  170.0  65.0  4432.0   84*  42.20  3,215  137.85   \n",
       "7    Robin Uthappa  177.0  170.0  17.0  4411.0    87  28.83  3,380  130.50   \n",
       "8   AB de Villiers  154.0  142.0  32.0  4395.0  133*  39.95  2,906  151.23   \n",
       "9   Gautam Gambhir  154.0  152.0  17.0  4217.0    93  31.23  3,404  123.88   \n",
       "10  Ajinkya Rahane  140.0  132.0  16.0  3820.0  105*  32.93  3,133  121.92   \n",
       "11  Dinesh Karthik  182.0  163.0  28.0  3654.0   97*  27.06  2,815  129.80   \n",
       "12    Shane Watson  134.0  130.0  15.0  3575.0  117*  31.08  2,562  139.53   \n",
       "13   Ambati Rayudu  147.0  140.0  25.0  3300.0  100*  28.69  2,620  125.95   \n",
       "14    Yusuf Pathan  174.0  154.0  44.0  3204.0   100  29.12  2,241  142.97   \n",
       "15  BrendonMCullum  109.0  109.0   5.0  2880.0  158*  27.69  2,186  131.74   \n",
       "16   Parthiv Patel  139.0  137.0  11.0  2848.0    81  22.60  2,358  120.78   \n",
       "17   Manish Pandey  130.0  120.0  23.0  2843.0  114*  29.30  2,353  120.82   \n",
       "18  Kieron Pollard  148.0  135.0  39.0  2755.0    83  28.69  1,877  146.77   \n",
       "19    Yuvraj Singh  132.0  126.0  15.0  2750.0    83  24.77  2,120  129.71   \n",
       "\n",
       "    100    50     4s     6s                         Team  \n",
       "0   5.0  36.0  480.0  190.0  Royal Challengers Bangalore  \n",
       "1   1.0  38.0  493.0  194.0          Chennai Super Kings  \n",
       "2   1.0  36.0  431.0  194.0               Mumbai Indians  \n",
       "3   4.0  44.0  458.0  181.0          Sunrisers Hyderabad  \n",
       "4   0.0  37.0  524.0   96.0               Delhi Capitals  \n",
       "5   6.0  28.0  369.0  326.0              Kings XI Punjab  \n",
       "6   0.0  23.0  297.0  209.0          Chennai Super Kings  \n",
       "7   0.0  24.0  435.0  156.0             Rajasthan Royals  \n",
       "8   3.0  33.0  357.0  212.0  Royal Challengers Bangalore  \n",
       "9   0.0  36.0  491.0   59.0               Delhi Capitals  \n",
       "10  2.0  27.0  404.0   74.0               Delhi Capitals  \n",
       "11  0.0  18.0  357.0  101.0        Kolkata Knight Riders  \n",
       "12  4.0  19.0  343.0  177.0          Chennai Super Kings  \n",
       "13  1.0  18.0  278.0  120.0          Chennai Super Kings  \n",
       "14  1.0  13.0  262.0  158.0          Sunrisers Hyderabad  \n",
       "15  2.0  13.0  293.0  130.0  Royal Challengers Bangalore  \n",
       "16  0.0  13.0  365.0   49.0  Royal Challengers Bangalore  \n",
       "17  1.0  15.0  253.0   75.0          Sunrisers Hyderabad  \n",
       "18  0.0  14.0  181.0  176.0               Mumbai Indians  \n",
       "19  0.0  13.0  217.0  149.0               Mumbai Indians  "
      ]
     },
     "execution_count": 7,
     "metadata": {},
     "output_type": "execute_result"
    }
   ],
   "source": [
    "bats=pd.read_csv('batting.qz.txt',sep='\\t')\n",
    "a=bats.columns[1:]\n",
    "bats.drop('Team',axis=1,inplace=True)\n",
    "bats.columns=a\n",
    "bats.head(20)"
   ]
  },
  {
   "cell_type": "code",
   "execution_count": 8,
   "metadata": {
    "colab": {
     "base_uri": "https://localhost:8080/",
     "height": 195
    },
    "id": "f1SWtqeliDYb",
    "outputId": "a1241767-82a2-41a4-efde-e1383f13c4ce"
   },
   "outputs": [
    {
     "data": {
      "text/html": [
       "<div>\n",
       "<style scoped>\n",
       "    .dataframe tbody tr th:only-of-type {\n",
       "        vertical-align: middle;\n",
       "    }\n",
       "\n",
       "    .dataframe tbody tr th {\n",
       "        vertical-align: top;\n",
       "    }\n",
       "\n",
       "    .dataframe thead th {\n",
       "        text-align: right;\n",
       "    }\n",
       "</style>\n",
       "<table border=\"1\" class=\"dataframe\">\n",
       "  <thead>\n",
       "    <tr style=\"text-align: right;\">\n",
       "      <th></th>\n",
       "      <th>PLAYER</th>\n",
       "      <th>Mat</th>\n",
       "      <th>Inns</th>\n",
       "      <th>NO</th>\n",
       "      <th>Runs</th>\n",
       "      <th>HS</th>\n",
       "      <th>Avg</th>\n",
       "      <th>BF</th>\n",
       "      <th>SR</th>\n",
       "      <th>100</th>\n",
       "      <th>50</th>\n",
       "      <th>4s</th>\n",
       "      <th>6s</th>\n",
       "      <th>Team</th>\n",
       "    </tr>\n",
       "  </thead>\n",
       "  <tbody>\n",
       "    <tr>\n",
       "      <th>0</th>\n",
       "      <td>Virat Kohli</td>\n",
       "      <td>177.0</td>\n",
       "      <td>169.0</td>\n",
       "      <td>26.0</td>\n",
       "      <td>5412.0</td>\n",
       "      <td>113</td>\n",
       "      <td>37.84</td>\n",
       "      <td>4112.0</td>\n",
       "      <td>131.61</td>\n",
       "      <td>5.0</td>\n",
       "      <td>36.0</td>\n",
       "      <td>480.0</td>\n",
       "      <td>190.0</td>\n",
       "      <td>Royal Challengers Bangalore</td>\n",
       "    </tr>\n",
       "    <tr>\n",
       "      <th>1</th>\n",
       "      <td>Suresh Raina</td>\n",
       "      <td>193.0</td>\n",
       "      <td>189.0</td>\n",
       "      <td>28.0</td>\n",
       "      <td>5368.0</td>\n",
       "      <td>100*</td>\n",
       "      <td>33.34</td>\n",
       "      <td>3914.0</td>\n",
       "      <td>137.14</td>\n",
       "      <td>1.0</td>\n",
       "      <td>38.0</td>\n",
       "      <td>493.0</td>\n",
       "      <td>194.0</td>\n",
       "      <td>Chennai Super Kings</td>\n",
       "    </tr>\n",
       "    <tr>\n",
       "      <th>2</th>\n",
       "      <td>Rohit Sharma</td>\n",
       "      <td>188.0</td>\n",
       "      <td>183.0</td>\n",
       "      <td>28.0</td>\n",
       "      <td>4898.0</td>\n",
       "      <td>109*</td>\n",
       "      <td>31.60</td>\n",
       "      <td>3744.0</td>\n",
       "      <td>130.82</td>\n",
       "      <td>1.0</td>\n",
       "      <td>36.0</td>\n",
       "      <td>431.0</td>\n",
       "      <td>194.0</td>\n",
       "      <td>Mumbai Indians</td>\n",
       "    </tr>\n",
       "    <tr>\n",
       "      <th>3</th>\n",
       "      <td>David Warner</td>\n",
       "      <td>126.0</td>\n",
       "      <td>126.0</td>\n",
       "      <td>17.0</td>\n",
       "      <td>4706.0</td>\n",
       "      <td>126</td>\n",
       "      <td>43.17</td>\n",
       "      <td>3305.0</td>\n",
       "      <td>142.39</td>\n",
       "      <td>4.0</td>\n",
       "      <td>44.0</td>\n",
       "      <td>458.0</td>\n",
       "      <td>181.0</td>\n",
       "      <td>Sunrisers Hyderabad</td>\n",
       "    </tr>\n",
       "    <tr>\n",
       "      <th>4</th>\n",
       "      <td>Shikhar Dhawan</td>\n",
       "      <td>159.0</td>\n",
       "      <td>158.0</td>\n",
       "      <td>21.0</td>\n",
       "      <td>4579.0</td>\n",
       "      <td>97*</td>\n",
       "      <td>33.42</td>\n",
       "      <td>3669.0</td>\n",
       "      <td>124.80</td>\n",
       "      <td>0.0</td>\n",
       "      <td>37.0</td>\n",
       "      <td>524.0</td>\n",
       "      <td>96.0</td>\n",
       "      <td>Delhi Capitals</td>\n",
       "    </tr>\n",
       "  </tbody>\n",
       "</table>\n",
       "</div>"
      ],
      "text/plain": [
       "           PLAYER    Mat   Inns    NO    Runs    HS    Avg      BF      SR  \\\n",
       "0     Virat Kohli  177.0  169.0  26.0  5412.0   113  37.84  4112.0  131.61   \n",
       "1    Suresh Raina  193.0  189.0  28.0  5368.0  100*  33.34  3914.0  137.14   \n",
       "2    Rohit Sharma  188.0  183.0  28.0  4898.0  109*  31.60  3744.0  130.82   \n",
       "3    David Warner  126.0  126.0  17.0  4706.0   126  43.17  3305.0  142.39   \n",
       "4  Shikhar Dhawan  159.0  158.0  21.0  4579.0   97*  33.42  3669.0  124.80   \n",
       "\n",
       "   100    50     4s     6s                         Team  \n",
       "0  5.0  36.0  480.0  190.0  Royal Challengers Bangalore  \n",
       "1  1.0  38.0  493.0  194.0          Chennai Super Kings  \n",
       "2  1.0  36.0  431.0  194.0               Mumbai Indians  \n",
       "3  4.0  44.0  458.0  181.0          Sunrisers Hyderabad  \n",
       "4  0.0  37.0  524.0   96.0               Delhi Capitals  "
      ]
     },
     "execution_count": 8,
     "metadata": {},
     "output_type": "execute_result"
    }
   ],
   "source": [
    "def changex(a,df):\n",
    "    b=[]\n",
    "    for i in df[a]:\n",
    "        if type(i)==float or len(i.split(','))==1:\n",
    "            b.append(i) \n",
    "        else:\n",
    "            if len(i.split(','))==2:\n",
    "                x=i.split(',')[0]\n",
    "                y=i.split(',')[1]\n",
    "                b.append(str(x)+str(y))\n",
    "    df[a]=b\n",
    "    return\n",
    "changex('BF',bats)\n",
    "bats['BF']=bats['BF'].astype(float)\n",
    "bats.head()"
   ]
  },
  {
   "cell_type": "code",
   "execution_count": null,
   "metadata": {
    "colab": {
     "base_uri": "https://localhost:8080/",
     "height": 343
    },
    "id": "8xXTvuaLiLks",
    "outputId": "b3de831e-8472-4f99-8f8e-0792cdbbf2f2"
   },
   "outputs": [
    {
     "data": {
      "text/html": [
       "<div>\n",
       "<style scoped>\n",
       "    .dataframe tbody tr th:only-of-type {\n",
       "        vertical-align: middle;\n",
       "    }\n",
       "\n",
       "    .dataframe tbody tr th {\n",
       "        vertical-align: top;\n",
       "    }\n",
       "\n",
       "    .dataframe thead th {\n",
       "        text-align: right;\n",
       "    }\n",
       "</style>\n",
       "<table border=\"1\" class=\"dataframe\">\n",
       "  <thead>\n",
       "    <tr style=\"text-align: right;\">\n",
       "      <th></th>\n",
       "      <th>PLAYER</th>\n",
       "      <th>Mat</th>\n",
       "      <th>Inns</th>\n",
       "      <th>NO</th>\n",
       "      <th>Runs</th>\n",
       "      <th>HS</th>\n",
       "      <th>Avg</th>\n",
       "      <th>BF</th>\n",
       "      <th>SR</th>\n",
       "      <th>100</th>\n",
       "      <th>50</th>\n",
       "      <th>4s</th>\n",
       "      <th>6s</th>\n",
       "      <th>Team</th>\n",
       "    </tr>\n",
       "  </thead>\n",
       "  <tbody>\n",
       "    <tr>\n",
       "      <th>0</th>\n",
       "      <td>Virat Kohli</td>\n",
       "      <td>177.0</td>\n",
       "      <td>169.0</td>\n",
       "      <td>26.0</td>\n",
       "      <td>5412.0</td>\n",
       "      <td>113.0</td>\n",
       "      <td>37.84</td>\n",
       "      <td>4112.0</td>\n",
       "      <td>131.61</td>\n",
       "      <td>5.0</td>\n",
       "      <td>36.0</td>\n",
       "      <td>480.0</td>\n",
       "      <td>190.0</td>\n",
       "      <td>Royal Challengers Bangalore</td>\n",
       "    </tr>\n",
       "    <tr>\n",
       "      <th>1</th>\n",
       "      <td>Suresh Raina</td>\n",
       "      <td>193.0</td>\n",
       "      <td>189.0</td>\n",
       "      <td>28.0</td>\n",
       "      <td>5368.0</td>\n",
       "      <td>100.1</td>\n",
       "      <td>33.34</td>\n",
       "      <td>3914.0</td>\n",
       "      <td>137.14</td>\n",
       "      <td>1.0</td>\n",
       "      <td>38.0</td>\n",
       "      <td>493.0</td>\n",
       "      <td>194.0</td>\n",
       "      <td>Chennai Super Kings</td>\n",
       "    </tr>\n",
       "    <tr>\n",
       "      <th>2</th>\n",
       "      <td>Rohit Sharma</td>\n",
       "      <td>188.0</td>\n",
       "      <td>183.0</td>\n",
       "      <td>28.0</td>\n",
       "      <td>4898.0</td>\n",
       "      <td>109.1</td>\n",
       "      <td>31.60</td>\n",
       "      <td>3744.0</td>\n",
       "      <td>130.82</td>\n",
       "      <td>1.0</td>\n",
       "      <td>36.0</td>\n",
       "      <td>431.0</td>\n",
       "      <td>194.0</td>\n",
       "      <td>Mumbai Indians</td>\n",
       "    </tr>\n",
       "    <tr>\n",
       "      <th>3</th>\n",
       "      <td>David Warner</td>\n",
       "      <td>126.0</td>\n",
       "      <td>126.0</td>\n",
       "      <td>17.0</td>\n",
       "      <td>4706.0</td>\n",
       "      <td>126.0</td>\n",
       "      <td>43.17</td>\n",
       "      <td>3305.0</td>\n",
       "      <td>142.39</td>\n",
       "      <td>4.0</td>\n",
       "      <td>44.0</td>\n",
       "      <td>458.0</td>\n",
       "      <td>181.0</td>\n",
       "      <td>Sunrisers Hyderabad</td>\n",
       "    </tr>\n",
       "    <tr>\n",
       "      <th>4</th>\n",
       "      <td>Shikhar Dhawan</td>\n",
       "      <td>159.0</td>\n",
       "      <td>158.0</td>\n",
       "      <td>21.0</td>\n",
       "      <td>4579.0</td>\n",
       "      <td>97.1</td>\n",
       "      <td>33.42</td>\n",
       "      <td>3669.0</td>\n",
       "      <td>124.80</td>\n",
       "      <td>0.0</td>\n",
       "      <td>37.0</td>\n",
       "      <td>524.0</td>\n",
       "      <td>96.0</td>\n",
       "      <td>Delhi Capitals</td>\n",
       "    </tr>\n",
       "    <tr>\n",
       "      <th>5</th>\n",
       "      <td>Chris Gayle</td>\n",
       "      <td>125.0</td>\n",
       "      <td>124.0</td>\n",
       "      <td>15.0</td>\n",
       "      <td>4484.0</td>\n",
       "      <td>175.1</td>\n",
       "      <td>41.13</td>\n",
       "      <td>2969.0</td>\n",
       "      <td>151.02</td>\n",
       "      <td>6.0</td>\n",
       "      <td>28.0</td>\n",
       "      <td>369.0</td>\n",
       "      <td>326.0</td>\n",
       "      <td>Kings XI Punjab</td>\n",
       "    </tr>\n",
       "    <tr>\n",
       "      <th>6</th>\n",
       "      <td>MS Dhoni</td>\n",
       "      <td>190.0</td>\n",
       "      <td>170.0</td>\n",
       "      <td>65.0</td>\n",
       "      <td>4432.0</td>\n",
       "      <td>84.1</td>\n",
       "      <td>42.20</td>\n",
       "      <td>3215.0</td>\n",
       "      <td>137.85</td>\n",
       "      <td>0.0</td>\n",
       "      <td>23.0</td>\n",
       "      <td>297.0</td>\n",
       "      <td>209.0</td>\n",
       "      <td>Chennai Super Kings</td>\n",
       "    </tr>\n",
       "    <tr>\n",
       "      <th>7</th>\n",
       "      <td>Robin Uthappa</td>\n",
       "      <td>177.0</td>\n",
       "      <td>170.0</td>\n",
       "      <td>17.0</td>\n",
       "      <td>4411.0</td>\n",
       "      <td>87.0</td>\n",
       "      <td>28.83</td>\n",
       "      <td>3380.0</td>\n",
       "      <td>130.50</td>\n",
       "      <td>0.0</td>\n",
       "      <td>24.0</td>\n",
       "      <td>435.0</td>\n",
       "      <td>156.0</td>\n",
       "      <td>Rajasthan Royals</td>\n",
       "    </tr>\n",
       "    <tr>\n",
       "      <th>8</th>\n",
       "      <td>AB de Villiers</td>\n",
       "      <td>154.0</td>\n",
       "      <td>142.0</td>\n",
       "      <td>32.0</td>\n",
       "      <td>4395.0</td>\n",
       "      <td>133.1</td>\n",
       "      <td>39.95</td>\n",
       "      <td>2906.0</td>\n",
       "      <td>151.23</td>\n",
       "      <td>3.0</td>\n",
       "      <td>33.0</td>\n",
       "      <td>357.0</td>\n",
       "      <td>212.0</td>\n",
       "      <td>Royal Challengers Bangalore</td>\n",
       "    </tr>\n",
       "    <tr>\n",
       "      <th>9</th>\n",
       "      <td>Gautam Gambhir</td>\n",
       "      <td>154.0</td>\n",
       "      <td>152.0</td>\n",
       "      <td>17.0</td>\n",
       "      <td>4217.0</td>\n",
       "      <td>93.0</td>\n",
       "      <td>31.23</td>\n",
       "      <td>3404.0</td>\n",
       "      <td>123.88</td>\n",
       "      <td>0.0</td>\n",
       "      <td>36.0</td>\n",
       "      <td>491.0</td>\n",
       "      <td>59.0</td>\n",
       "      <td>Delhi Capitals</td>\n",
       "    </tr>\n",
       "  </tbody>\n",
       "</table>\n",
       "</div>"
      ],
      "text/plain": [
       "           PLAYER    Mat   Inns  ...     4s     6s                         Team\n",
       "0     Virat Kohli  177.0  169.0  ...  480.0  190.0  Royal Challengers Bangalore\n",
       "1    Suresh Raina  193.0  189.0  ...  493.0  194.0          Chennai Super Kings\n",
       "2    Rohit Sharma  188.0  183.0  ...  431.0  194.0               Mumbai Indians\n",
       "3    David Warner  126.0  126.0  ...  458.0  181.0          Sunrisers Hyderabad\n",
       "4  Shikhar Dhawan  159.0  158.0  ...  524.0   96.0               Delhi Capitals\n",
       "5     Chris Gayle  125.0  124.0  ...  369.0  326.0              Kings XI Punjab\n",
       "6        MS Dhoni  190.0  170.0  ...  297.0  209.0          Chennai Super Kings\n",
       "7   Robin Uthappa  177.0  170.0  ...  435.0  156.0             Rajasthan Royals\n",
       "8  AB de Villiers  154.0  142.0  ...  357.0  212.0  Royal Challengers Bangalore\n",
       "9  Gautam Gambhir  154.0  152.0  ...  491.0   59.0               Delhi Capitals\n",
       "\n",
       "[10 rows x 14 columns]"
      ]
     },
     "execution_count": 6,
     "metadata": {
      "tags": []
     },
     "output_type": "execute_result"
    }
   ],
   "source": [
    "def changey(a,df):\n",
    "    b=[]\n",
    "    for i in df[a]:\n",
    "        if type(i)==float or i.endswith('*')==False:\n",
    "            b.append(i) \n",
    "        else:\n",
    "            if i.endswith('*'):\n",
    "                i=i+')'\n",
    "                x=i.split('*')[0]\n",
    "                y='.1'\n",
    "                b.append(str(x)+str(y))\n",
    "    df[a]=b\n",
    "    return\n",
    "changey('HS',bats)\n",
    "bats['HS']=bats['HS'].astype(float)\n",
    "bats=bats.dropna()\n",
    "bats.head(10)"
   ]
  },
  {
   "cell_type": "markdown",
   "metadata": {
    "id": "QT8EZTig0IBN"
   },
   "source": [
    "# Analysis of first data set "
   ]
  },
  {
   "cell_type": "code",
   "execution_count": 9,
   "metadata": {
    "id": "NfxMmWQ-iTOV"
   },
   "outputs": [],
   "source": [
    "def team_name(name):\n",
    "    if(name == 'MI'):\n",
    "        return \"Mumbai Indians\"\n",
    "    elif(name == 'DD'):\n",
    "        return \"Delhi Daredevils\"\n",
    "    elif(name == 'PW'):\n",
    "        return \"Pune Warriors\"\n",
    "    elif(name == 'GL'):\n",
    "        return \"Gujarat Lions\"\n",
    "    elif(name == 'RPS'):\n",
    "        return \"Rising Pune Supergiant\"\n",
    "    elif(name == 'RR'):\n",
    "        return \"Rajasthan Royals\"\n",
    "    elif(name == 'RCB'):\n",
    "        return \"Royal Challengers Bangalore\"\n",
    "    elif(name == 'CSK'):\n",
    "        return \"Chennai Super Kings\"\n",
    "    elif(name == 'KKR'):\n",
    "        return \"Kolkata Knight Riders\"\n",
    "    elif(name == 'KXIP'):\n",
    "        return \"Kings XI Punjab\"\n",
    "    elif(name == 'DC'):\n",
    "        return \"Deccan Chargers\""
   ]
  },
  {
   "cell_type": "markdown",
   "metadata": {
    "id": "xJ-IaKtI4lUR"
   },
   "source": [
    "Mean Calculations"
   ]
  },
  {
   "cell_type": "code",
   "execution_count": 11,
   "metadata": {
    "colab": {
     "base_uri": "https://localhost:8080/",
     "height": 246
    },
    "id": "yc_FfAbdVIAY",
    "outputId": "2f242321-10fe-4700-d8ca-24ade27a5a2d"
   },
   "outputs": [
    {
     "name": "stdout",
     "output_type": "stream",
     "text": [
      "Enter team: CSK\n",
      "mean runs 34\n",
      "mean wickets 6\n"
     ]
    }
   ],
   "source": [
    "team=team_name(input(\"Enter team: \"))\n",
    "mean_runs = int(ipl[(ipl['winner']==team)&(ipl['win_by_runs']!=0)]['win_by_runs'].mean())\n",
    "mean_wickets = int(ipl[(ipl['winner']==team)&(ipl['win_by_wickets']!=0)]['win_by_wickets'].mean())\n",
    "print(\"mean runs\",mean_runs)\n",
    "print(\"mean wickets\",mean_wickets)"
   ]
  },
  {
   "cell_type": "markdown",
   "metadata": {
    "id": "Y6CCTdCWzwBN"
   },
   "source": [
    "median"
   ]
  },
  {
   "cell_type": "code",
   "execution_count": 12,
   "metadata": {
    "colab": {
     "base_uri": "https://localhost:8080/"
    },
    "id": "Ol0O1QMyzvVE",
    "outputId": "a71ac95b-0867-4a3a-97b6-ab17cc3f5efb"
   },
   "outputs": [
    {
     "name": "stdout",
     "output_type": "stream",
     "text": [
      "Enter team: CSK\n",
      "median runs 24\n",
      "median wickets 6\n"
     ]
    }
   ],
   "source": [
    "team=team_name(input(\"Enter team: \"))\n",
    "median_runs = int(ipl[(ipl['winner']==team)&(ipl['win_by_runs']!=0)]['win_by_runs'].median())\n",
    "median_wickets = int(ipl[(ipl['winner']==team)&(ipl['win_by_wickets']!=0)]['win_by_wickets'].median())\n",
    "print(\"median runs\",median_runs)\n",
    "print(\"median wickets\",median_wickets)"
   ]
  },
  {
   "cell_type": "markdown",
   "metadata": {
    "id": "JrVjyifQv1el"
   },
   "source": [
    "Variance calculation "
   ]
  },
  {
   "cell_type": "code",
   "execution_count": 13,
   "metadata": {
    "colab": {
     "base_uri": "https://localhost:8080/"
    },
    "id": "R1XsZGZqVajR",
    "outputId": "dca0f343-9410-4b15-c1ff-c412b49fc183"
   },
   "outputs": [
    {
     "name": "stdout",
     "output_type": "stream",
     "text": [
      "Enter team: CSK\n",
      "variance runs 778\n",
      "variance wickets 3\n"
     ]
    }
   ],
   "source": [
    "team=team_name(input(\"Enter team: \"))\n",
    "var_runs = int(ipl[(ipl['winner']==team)&(ipl['win_by_runs']!=0)]['win_by_runs'].var())\n",
    "var_wickets = int(ipl[(ipl['winner']==team)&(ipl['win_by_wickets']!=0)]['win_by_wickets'].var())\n",
    "print(\"variance runs\",var_runs)\n",
    "print(\"variance wickets\",var_wickets)"
   ]
  },
  {
   "cell_type": "markdown",
   "metadata": {
    "id": "2l6M0LR-xgjz"
   },
   "source": [
    "standard deviation \n"
   ]
  },
  {
   "cell_type": "code",
   "execution_count": 14,
   "metadata": {
    "colab": {
     "base_uri": "https://localhost:8080/"
    },
    "id": "6yGgEai-xd3L",
    "outputId": "86478bd9-f8bf-429e-f9a4-9f7ef38be41e"
   },
   "outputs": [
    {
     "name": "stdout",
     "output_type": "stream",
     "text": [
      "Enter team: CSK\n",
      "Standard deviation runs 27\n",
      "Standard deviation wickets 1\n"
     ]
    }
   ],
   "source": [
    "team=team_name(input(\"Enter team: \"))\n",
    "std_runs = int(ipl[(ipl['winner']==team)&(ipl['win_by_runs']!=0)]['win_by_runs'].std())\n",
    "std_wickets = int(ipl[(ipl['winner']==team)&(ipl['win_by_wickets']!=0)]['win_by_wickets'].std())\n",
    "print(\"Standard deviation runs: \",std_runs)\n",
    "print(\"Standard deviation wickets: \",std_wickets)"
   ]
  },
  {
   "cell_type": "markdown",
   "metadata": {
    "id": "K4F9r0Q2xsJj"
   },
   "source": [
    "Skewness"
   ]
  },
  {
   "cell_type": "code",
   "execution_count": 15,
   "metadata": {
    "colab": {
     "base_uri": "https://localhost:8080/"
    },
    "id": "T6RF3TWhxo5p",
    "outputId": "c941c884-ce81-4ba0-e382-1cadbc5fedb3"
   },
   "outputs": [
    {
     "name": "stdout",
     "output_type": "stream",
     "text": [
      "Enter team: CSK\n",
      "Skewness runs:  0.94\n",
      "Skewness wickets:  0.19\n"
     ]
    }
   ],
   "source": [
    "team=team_name(input(\"Enter team: \"))\n",
    "sk_runs = round(ipl[(ipl['winner']==team)&(ipl['win_by_runs']!=0)]['win_by_runs'].skew(),2)\n",
    "sk_wickets = round(ipl[(ipl['winner']==team)&(ipl['win_by_wickets']!=0)]['win_by_wickets'].skew(),2)\n",
    "print(\"Skewness runs: \",sk_runs)\n",
    "print(\"Skewness wickets: \",sk_wickets)"
   ]
  },
  {
   "cell_type": "markdown",
   "metadata": {
    "id": "E-e8zcX3x1mL"
   },
   "source": [
    "kurtosis"
   ]
  },
  {
   "cell_type": "code",
   "execution_count": 16,
   "metadata": {
    "colab": {
     "base_uri": "https://localhost:8080/"
    },
    "id": "npk-pYPGxzNz",
    "outputId": "c49538a5-a645-4aa1-cbab-92dd66dac67b"
   },
   "outputs": [
    {
     "name": "stdout",
     "output_type": "stream",
     "text": [
      "Enter team: CSK\n",
      "kurtosis runs:  -0.25\n",
      "kurtosis wickets:  -0.98\n"
     ]
    }
   ],
   "source": [
    "team=team_name(input(\"Enter team: \"))\n",
    "k_runs = round(ipl[(ipl['winner']==team)&(ipl['win_by_runs']!=0)]['win_by_runs'].kurtosis(),2)\n",
    "k_wickets = round(ipl[(ipl['winner']==team)&(ipl['win_by_wickets']!=0)]['win_by_wickets'].kurtosis(),2)\n",
    "print(\"kurtosis runs: \",k_runs)\n",
    "print(\"kurtosis wickets: \",k_wickets)"
   ]
  },
  {
   "cell_type": "markdown",
   "metadata": {
    "id": "oQ9xip8HyLdf"
   },
   "source": [
    "quartiles"
   ]
  },
  {
   "cell_type": "code",
   "execution_count": 17,
   "metadata": {
    "colab": {
     "base_uri": "https://localhost:8080/"
    },
    "id": "qNtUYzVqyHxt",
    "outputId": "287fd9e7-fbcd-4ae9-f44a-326865a40109"
   },
   "outputs": [
    {
     "name": "stdout",
     "output_type": "stream",
     "text": [
      "Enter team: CSK\n",
      "q1 runs:  13.25\n",
      "q2 runs:  24.0\n",
      "q3 runs:  47.25\n",
      "q1 wickets:  5.0\n",
      "q2 wickets:  6.0\n",
      "q2 wickets:  8.0\n"
     ]
    }
   ],
   "source": [
    "team=team_name(input(\"Enter team: \"))\n",
    "q1_runs , q2_runs, q_runs  = round(ipl[(ipl['winner']==team)&(ipl['win_by_runs']!=0)]['win_by_runs'].quantile([0.25,0.50,0.75]),2)\n",
    "q1_wic , q2_wic, q_wic  = round(ipl[(ipl['winner']==team)&(ipl['win_by_wickets']!=0)]['win_by_wickets'].quantile([0.25,0.50,0.75]),2)\n",
    "print(\"q1 runs: \",q1_runs)\n",
    "print(\"q2 runs: \",q2_runs)\n",
    "print(\"q3 runs: \",q_runs)\n",
    "print(\"q1 wickets: \",q1_wic)\n",
    "print(\"q2 wickets: \",q2_wic)\n",
    "print(\"q2 wickets: \",q_wic)"
   ]
  },
  {
   "cell_type": "markdown",
   "metadata": {
    "id": "Nku2FrzHyzb-"
   },
   "source": [
    "iqr"
   ]
  },
  {
   "cell_type": "code",
   "execution_count": 18,
   "metadata": {
    "colab": {
     "base_uri": "https://localhost:8080/"
    },
    "id": "oeS-v-Shyi54",
    "outputId": "ea0ab12c-f44c-42db-b745-7538e4467e91"
   },
   "outputs": [
    {
     "name": "stdout",
     "output_type": "stream",
     "text": [
      "iqr runs 34.0\n",
      "iqr wickets 3.0\n"
     ]
    }
   ],
   "source": [
    "iqr_runs=q_runs-q1_runs\n",
    "iqr_wic =q_wic - q1_wic\n",
    "print(\"iqr runs\",iqr_runs)\n",
    "print(\"iqr wickets\",iqr_wic)"
   ]
  },
  {
   "cell_type": "markdown",
   "metadata": {
    "id": "0mIDlx3QzJuX"
   },
   "source": [
    "range"
   ]
  },
  {
   "cell_type": "code",
   "execution_count": 19,
   "metadata": {
    "colab": {
     "base_uri": "https://localhost:8080/"
    },
    "id": "7uPEv1FBzCBm",
    "outputId": "2c4e20a7-7b2a-43a9-a19f-39be4635601c"
   },
   "outputs": [
    {
     "name": "stdout",
     "output_type": "stream",
     "text": [
      "range runs 96\n",
      "range wickets 7\n"
     ]
    }
   ],
   "source": [
    "runs_min=round(ipl[(ipl['winner']==team)&(ipl['win_by_runs']!=0)]['win_by_runs'].min(),2)\n",
    "runs_max=round(ipl[(ipl['winner']==team)&(ipl['win_by_runs']!=0)]['win_by_runs'].max(),2)\n",
    "runs_range=runs_max-runs_min\n",
    "print(\"range runs\",runs_range)\n",
    "wic_min=round(ipl[(ipl['winner']==team)&(ipl['win_by_wickets']!=0)]['win_by_wickets'].min(),2)\n",
    "wic_max=round(ipl[(ipl['winner']==team)&(ipl['win_by_wickets']!=0)]['win_by_wickets'].max(),2)\n",
    "wic_range=wic_max-wic_min\n",
    "print(\"range wickets\",wic_range)"
   ]
  },
  {
   "cell_type": "markdown",
   "metadata": {
    "id": "zs2bHc5I0MFp"
   },
   "source": [
    "# Analysis of second data set - batting "
   ]
  },
  {
   "cell_type": "markdown",
   "metadata": {
    "id": "coMRXYttNo5m"
   },
   "source": [
    "Mean"
   ]
  },
  {
   "cell_type": "code",
   "execution_count": null,
   "metadata": {
    "colab": {
     "base_uri": "https://localhost:8080/"
    },
    "id": "I3h6uYtnNsFE",
    "outputId": "70b563f2-4960-49dc-98bb-f6599c8fbf47"
   },
   "outputs": [
    {
     "data": {
      "text/plain": [
       "Mat       96.0\n",
       "Inns      89.0\n",
       "NO        16.0\n",
       "Runs    2218.0\n",
       "HS        95.0\n",
       "Avg       30.0\n",
       "BF      1691.0\n",
       "SR       131.0\n",
       "100        1.0\n",
       "50        13.0\n",
       "4s       207.0\n",
       "6s        83.0\n",
       "dtype: float64"
      ]
     },
     "execution_count": 31,
     "metadata": {
      "tags": []
     },
     "output_type": "execute_result"
    }
   ],
   "source": [
    "round(bats.mean(),0)"
   ]
  },
  {
   "cell_type": "markdown",
   "metadata": {
    "id": "795PjLdg4h6P"
   },
   "source": [
    "median"
   ]
  },
  {
   "cell_type": "code",
   "execution_count": null,
   "metadata": {
    "colab": {
     "base_uri": "https://localhost:8080/"
    },
    "id": "hJyOxEgs6GOE",
    "outputId": "5b9aeaed-942e-4464-c693-a735c2b55ddc"
   },
   "outputs": [
    {
     "data": {
      "text/plain": [
       "Mat       82.0\n",
       "Inns      77.0\n",
       "NO        14.0\n",
       "Runs    1784.0\n",
       "HS        94.0\n",
       "Avg       29.0\n",
       "BF      1412.0\n",
       "SR       130.0\n",
       "100        0.0\n",
       "50        11.0\n",
       "4s       160.0\n",
       "6s        61.0\n",
       "dtype: float64"
      ]
     },
     "execution_count": 32,
     "metadata": {
      "tags": []
     },
     "output_type": "execute_result"
    }
   ],
   "source": [
    "round(bats.median(),0)"
   ]
  },
  {
   "cell_type": "markdown",
   "metadata": {
    "id": "2P2uhe2f5-cw"
   },
   "source": [
    "variance"
   ]
  },
  {
   "cell_type": "code",
   "execution_count": null,
   "metadata": {
    "colab": {
     "base_uri": "https://localhost:8080/"
    },
    "id": "1dCY4oU_6G_n",
    "outputId": "8af120e5-cc6c-4514-ead4-2d28781317b7"
   },
   "outputs": [
    {
     "data": {
      "text/plain": [
       "Mat        1926.0\n",
       "Inns       1684.0\n",
       "NO          146.0\n",
       "Runs    1460052.0\n",
       "HS          455.0\n",
       "Avg          35.0\n",
       "BF       809981.0\n",
       "SR          168.0\n",
       "100           1.0\n",
       "50           95.0\n",
       "4s        14664.0\n",
       "6s         3302.0\n",
       "dtype: float64"
      ]
     },
     "execution_count": 33,
     "metadata": {
      "tags": []
     },
     "output_type": "execute_result"
    }
   ],
   "source": [
    "round(bats.var(),0)"
   ]
  },
  {
   "cell_type": "markdown",
   "metadata": {
    "id": "p4pryncr5_sq"
   },
   "source": [
    "standard deviation"
   ]
  },
  {
   "cell_type": "code",
   "execution_count": null,
   "metadata": {
    "colab": {
     "base_uri": "https://localhost:8080/"
    },
    "id": "xUiJ1ieM6Ht2",
    "outputId": "c3601d44-b10b-43b3-a212-147bd68c7ccf"
   },
   "outputs": [
    {
     "data": {
      "text/plain": [
       "Mat       44.0\n",
       "Inns      41.0\n",
       "NO        12.0\n",
       "Runs    1208.0\n",
       "HS        21.0\n",
       "Avg        6.0\n",
       "BF       900.0\n",
       "SR        13.0\n",
       "100        1.0\n",
       "50        10.0\n",
       "4s       121.0\n",
       "6s        57.0\n",
       "dtype: float64"
      ]
     },
     "execution_count": 34,
     "metadata": {
      "tags": []
     },
     "output_type": "execute_result"
    }
   ],
   "source": [
    "round(bats.std(),0)"
   ]
  },
  {
   "cell_type": "markdown",
   "metadata": {
    "id": "f7_l5CC44lKq"
   },
   "source": [
    "skewness"
   ]
  },
  {
   "cell_type": "code",
   "execution_count": null,
   "metadata": {
    "colab": {
     "base_uri": "https://localhost:8080/"
    },
    "id": "4EgnB6hL6IWy",
    "outputId": "143d29c4-4fab-4f81-c792-9f900b05f596"
   },
   "outputs": [
    {
     "data": {
      "text/plain": [
       "Mat     1.0\n",
       "Inns    1.0\n",
       "NO      1.0\n",
       "Runs    1.0\n",
       "HS      1.0\n",
       "Avg     0.0\n",
       "BF      1.0\n",
       "SR      1.0\n",
       "100     2.0\n",
       "50      1.0\n",
       "4s      1.0\n",
       "6s      2.0\n",
       "dtype: float64"
      ]
     },
     "execution_count": 35,
     "metadata": {
      "tags": []
     },
     "output_type": "execute_result"
    }
   ],
   "source": [
    "round(bats.skew(),0)"
   ]
  },
  {
   "cell_type": "markdown",
   "metadata": {
    "id": "Rjsx8Ndn4nFi"
   },
   "source": [
    "kurtosis"
   ]
  },
  {
   "cell_type": "code",
   "execution_count": null,
   "metadata": {
    "colab": {
     "base_uri": "https://localhost:8080/"
    },
    "id": "m_95FRWB6I_l",
    "outputId": "801a0d03-550c-46c3-808c-b0e486799629"
   },
   "outputs": [
    {
     "data": {
      "text/plain": [
       "Mat    -1.0\n",
       "Inns   -0.0\n",
       "NO      3.0\n",
       "Runs    0.0\n",
       "HS      2.0\n",
       "Avg    -1.0\n",
       "BF      0.0\n",
       "SR      4.0\n",
       "100     7.0\n",
       "50      2.0\n",
       "4s      0.0\n",
       "6s      4.0\n",
       "dtype: float64"
      ]
     },
     "execution_count": 36,
     "metadata": {
      "tags": []
     },
     "output_type": "execute_result"
    }
   ],
   "source": [
    "round(bats.kurtosis(),0)"
   ]
  },
  {
   "cell_type": "markdown",
   "metadata": {
    "id": "7TQa3osV6ESK"
   },
   "source": [
    "range"
   ]
  },
  {
   "cell_type": "code",
   "execution_count": null,
   "metadata": {
    "colab": {
     "base_uri": "https://localhost:8080/"
    },
    "id": "kivYtxfy6JhH",
    "outputId": "a2c35c0e-3fc0-40c7-9f10-f736dbeed21d"
   },
   "outputs": [
    {
     "data": {
      "text/plain": [
       "Mat      164.0\n",
       "Inns     160.0\n",
       "NO        63.0\n",
       "Runs    4443.0\n",
       "HS       127.0\n",
       "Avg       25.0\n",
       "BF      3426.0\n",
       "SR        80.0\n",
       "100        6.0\n",
       "50        44.0\n",
       "4s       463.0\n",
       "6s       302.0\n",
       "dtype: float64"
      ]
     },
     "execution_count": 43,
     "metadata": {
      "tags": []
     },
     "output_type": "execute_result"
    }
   ],
   "source": [
    "\n",
    "round(bats.max()-bats.min(),0)"
   ]
  },
  {
   "cell_type": "markdown",
   "metadata": {
    "id": "oTi-kOUn4i1H"
   },
   "source": [
    "quartile"
   ]
  },
  {
   "cell_type": "code",
   "execution_count": null,
   "metadata": {
    "id": "9ReK5pSr6KX9"
   },
   "outputs": [],
   "source": [
    "q3_bats=bats.quantile(0.75)\n",
    "q1_bats=bats.quantile(0.25)"
   ]
  },
  {
   "cell_type": "markdown",
   "metadata": {
    "id": "irI_nrUZ4ozW"
   },
   "source": [
    "iqr"
   ]
  },
  {
   "cell_type": "code",
   "execution_count": null,
   "metadata": {
    "colab": {
     "base_uri": "https://localhost:8080/"
    },
    "id": "Rv11KJeV573k",
    "outputId": "a12dcdda-555d-4567-ea99-3177e3ae8267"
   },
   "outputs": [
    {
     "name": "stdout",
     "output_type": "stream",
     "text": [
      "Mat       65.0\n",
      "Inns      64.0\n",
      "NO        16.0\n",
      "Runs    1425.0\n",
      "HS        24.0\n",
      "Avg        8.0\n",
      "BF      1177.0\n",
      "SR        14.0\n",
      "100        1.0\n",
      "50        10.0\n",
      "4s       150.0\n",
      "6s        52.0\n",
      "dtype: float64 0\n"
     ]
    }
   ],
   "source": [
    "print(round(q3_bats-q1_bats),0)"
   ]
  },
  {
   "cell_type": "markdown",
   "metadata": {
    "id": "4QbRNWb4fF8i"
   },
   "source": [
    "# Hypothesis testing "
   ]
  },
  {
   "cell_type": "code",
   "execution_count": null,
   "metadata": {
    "id": "KsfrLo7BWo-j"
   },
   "outputs": [],
   "source": [
    "import scipy.stats as st"
   ]
  },
  {
   "cell_type": "markdown",
   "metadata": {
    "id": "Z1G-pfStT-zD"
   },
   "source": [
    "H0: Mean of number of wins each year is equal to 6.\n",
    "\n",
    "HA: Mean of number of wins each year is greater than 6\n",
    "\n",
    "alpha =0.05"
   ]
  },
  {
   "cell_type": "code",
   "execution_count": null,
   "metadata": {
    "colab": {
     "base_uri": "https://localhost:8080/"
    },
    "id": "wqyyBTSSUUhK",
    "outputId": "60b29a67-78b9-46f2-bb32-e245997e827e"
   },
   "outputs": [
    {
     "name": "stdout",
     "output_type": "stream",
     "text": [
      "Enter the desired team: KKR\n",
      "rejected\n"
     ]
    }
   ],
   "source": [
    "team=team_name(input(\"Enter the desired team: \"))\n",
    "years=np.array(ipl['season'].value_counts().index)\n",
    "years.sort()\n",
    "sums=[]\n",
    "for i in years:\n",
    "    data=ipl.groupby('season').get_group(i)\n",
    "    data=data[data['winner']==team].shape[0]\n",
    "    sums.append(data)\n",
    "sums=np.array(sums)\n",
    "x=sums.mean()\n",
    "std =sums.std()\n",
    "mu=6\n",
    "alpha=0.05\n",
    "n=len(sums)\n",
    "\n",
    "z_critical=abs(st.norm.ppf(alpha))\n",
    "z=(x-mu)/(std /np.sqrt(n))\n",
    "\n",
    "if(z<z_critical):\n",
    "    print(\"accepted\")\n",
    "else:\n",
    "    print(\"rejected\")"
   ]
  },
  {
   "cell_type": "markdown",
   "metadata": {
    "id": "EaXucFooWaK6"
   },
   "source": [
    "H0: Mean of  wins by runs by a team equal to 50.\n",
    "\n",
    "HA: Mean of  wins by runs by a team is greater than 50\n",
    "\n",
    "alpha =0.05"
   ]
  },
  {
   "cell_type": "code",
   "execution_count": null,
   "metadata": {
    "colab": {
     "base_uri": "https://localhost:8080/"
    },
    "id": "VZ9lV6IbWkKB",
    "outputId": "f1a177c7-fc19-4e76-8d04-5462b44a8dbe"
   },
   "outputs": [
    {
     "name": "stdout",
     "output_type": "stream",
     "text": [
      "Enter team: CSK\n",
      "accepted\n"
     ]
    }
   ],
   "source": [
    "team=team_name(input(\"Enter team: \"))\n",
    "data=ipl[(ipl['winner']==team)]['win_by_runs']\n",
    "x = data.mean()\n",
    "std = data.std()\n",
    "mu=50\n",
    "alpha=0.05\n",
    "n=len(data)\n",
    "\n",
    "z_critical=st.norm.ppf(alpha)\n",
    "z=(x-mu)/(std /np.sqrt(n))\n",
    "\n",
    "if(z<z_critical):\n",
    "    print(\"accepted\")\n",
    "else:\n",
    "    print(\"rejected\")"
   ]
  },
  {
   "cell_type": "markdown",
   "metadata": {
    "id": "TeyLEqUFRenQ"
   },
   "source": [
    "H0: Mean of no. of innings played by any player whose name starts with V is equal to 100.\n",
    "\n",
    "HA: Mean of no. of innings played by any player whose name starts with V is greater than 100\n",
    "\n",
    "alpha =0.05\n",
    "\n"
   ]
  },
  {
   "cell_type": "code",
   "execution_count": null,
   "metadata": {
    "colab": {
     "base_uri": "https://localhost:8080/"
    },
    "id": "2Pj46xd1fKJ_",
    "outputId": "039687e7-4d16-46c0-8d72-7487648e8765"
   },
   "outputs": [
    {
     "name": "stdout",
     "output_type": "stream",
     "text": [
      "0.39 0.05\n",
      "Null hypothesis is rejected\n"
     ]
    }
   ],
   "source": [
    "data=bats[bats['PLAYER'].str.startswith('V')==True]\n",
    "x=data['Inns'].mean()\n",
    "mu=100\n",
    "sd=data['Inns'].std()\n",
    "\n",
    "alpha=0.05\n",
    "\n",
    "n=len(data)\n",
    "z=float(x-mu)/(sd/np.sqrt(n))\n",
    "\n",
    "p=round(1-st.norm.cdf(z),2)\n",
    "print(p,alpha)\n",
    "if alpha>p:\n",
    "    print(\"Null Hypothesis is accepted\")\n",
    "else:\n",
    "    print(\"Null hypothesis is rejected\")"
   ]
  },
  {
   "cell_type": "markdown",
   "metadata": {
    "id": "_jfjhCeoYQdU"
   },
   "source": [
    "H0: Average no. of Sixes hit by MI players is equal to 60 \n",
    "\n",
    "HA: Average no. of Sixes hit by MI players is  less than 60\n",
    "\n",
    "alpha =0.1"
   ]
  },
  {
   "cell_type": "code",
   "execution_count": null,
   "metadata": {
    "colab": {
     "base_uri": "https://localhost:8080/"
    },
    "id": "UmjTT6eRYnk6",
    "outputId": "a5a1e149-85c4-48a6-c7c7-9c5a458ad415"
   },
   "outputs": [
    {
     "name": "stdout",
     "output_type": "stream",
     "text": [
      "0.09 0.1\n",
      "Null Hypothesis is accepted\n"
     ]
    }
   ],
   "source": [
    "data=bats[bats['Team']=='Mumbai Indians']\n",
    "x=int(data['6s'].mean())\n",
    "\n",
    "mu=60\n",
    "sd=data['6s'].std()\n",
    "alpha=0.1\n",
    "n=len(data)\n",
    "z=float(x-mu)/(sd/np.sqrt(n))\n",
    "\n",
    "p=round(1-st.norm.cdf(z),2)\n",
    "print(p,alpha)\n",
    "if alpha>p:\n",
    "    print(\"Null Hypothesis is accepted\")\n",
    "else:\n",
    "    print(\"Null hypothesis is rejected\")"
   ]
  },
  {
   "cell_type": "markdown",
   "metadata": {
    "id": "q5LBTt_qZkU2"
   },
   "source": [
    "H0: Average no. of deliveries faced by CSK players is equal to 3000 \n",
    "\n",
    "HA: Average no. of deliveries faced by CSK players is  less than 3000\n",
    "\n",
    "alpha =0.05"
   ]
  },
  {
   "cell_type": "code",
   "execution_count": null,
   "metadata": {
    "colab": {
     "base_uri": "https://localhost:8080/"
    },
    "id": "RCVEl_8uaPsk",
    "outputId": "1118a7d2-15ca-4ea0-bd97-48003549c73d"
   },
   "outputs": [
    {
     "name": "stdout",
     "output_type": "stream",
     "text": [
      "1.0 0.05\n",
      "Null hypothesis is rejected\n"
     ]
    }
   ],
   "source": [
    "data=bats[bats['Team']=='Chennai Super Kings']\n",
    "x=int(data['BF'].mean())\n",
    "mu=3000\n",
    "sd=data['BF'].std()\n",
    "\n",
    "alpha=0.05\n",
    "n=len(data)\n",
    "z=float(x-mu)/(sd/np.sqrt(n))\n",
    "\n",
    "p=round(1-st.norm.cdf(z),2)\n",
    "print(p,alpha)\n",
    "if alpha>p:\n",
    "    print(\"Null Hypothesis is accepted\")\n",
    "else:\n",
    "    print(\"Null hypothesis is rejected\")"
   ]
  },
  {
   "cell_type": "markdown",
   "metadata": {
    "id": "hIagB_i9gwuu"
   },
   "source": [
    "#Simple Linear Regression- For a given season , predict wins by margin of runs "
   ]
  },
  {
   "cell_type": "code",
   "execution_count": null,
   "metadata": {
    "colab": {
     "base_uri": "https://localhost:8080/"
    },
    "id": "z6m1hbzllGCn",
    "outputId": "d9029b62-4b64-44f2-8e2c-77f7eb05fea1"
   },
   "outputs": [
    {
     "name": "stdout",
     "output_type": "stream",
     "text": [
      "2008 24\n",
      "2009 27\n",
      "2010 31\n",
      "2011 33\n",
      "2012 34\n",
      "2013 37\n",
      "2014 22\n",
      "2015 32\n",
      "2016 21\n"
     ]
    }
   ],
   "source": [
    "X = ipl['season'].value_counts().index\n",
    "X=np.array(X)\n",
    "X.sort()\n",
    "y=[]\n",
    "for i in X:\n",
    "    z=ipl[(ipl['season']==i)&(ipl['win_by_runs']!=0)]['win_by_runs'].value_counts().sum()\n",
    "    print(i,z)\n",
    "    y.append(z)\n"
   ]
  },
  {
   "cell_type": "code",
   "execution_count": null,
   "metadata": {
    "colab": {
     "base_uri": "https://localhost:8080/"
    },
    "id": "OzLvfWYdg7_d",
    "outputId": "303397cc-3174-4f87-d8dd-bc0b696acd71"
   },
   "outputs": [
    {
     "name": "stdout",
     "output_type": "stream",
     "text": [
      "391.16 + -0.18 x\n"
     ]
    }
   ],
   "source": [
    "A=X\n",
    "B=y\n",
    "m_x=np.mean(X)\n",
    "m_y=np.mean(y)\n",
    "\n",
    "n=len(X)\n",
    "numer=0\n",
    "denom=0\n",
    "\n",
    "for i in range(n):\n",
    "    numer+=(X[i]-m_x)*(y[i]-m_y)\n",
    "    denom+=(X[i]-m_x)**2\n",
    "b1=round(numer/denom,2)\n",
    "b0=round(m_y -(b1*m_x),2)\n",
    "print(str(b0),'+',str(b1),'x')\n",
    "\n",
    "max_x = np.max(X)\n",
    "min_x = np.min(X)\n",
    "\n",
    "# Calculating line values x and y\n",
    "\n",
    "x = np.linspace(min_x, max_x, 10) # Returns number spaces evenly w.r.t interval\n",
    "Y = b0 + b1 * x"
   ]
  },
  {
   "cell_type": "code",
   "execution_count": null,
   "metadata": {
    "id": "jv30MS9hhBop"
   },
   "outputs": [],
   "source": [
    "X=X.reshape((len(X),1))\n",
    "from sklearn.model_selection import train_test_split\n",
    "X_train, X_test, y_train, y_test = train_test_split(X, y, test_size = 0.2, random_state = 10)"
   ]
  },
  {
   "cell_type": "code",
   "execution_count": null,
   "metadata": {
    "colab": {
     "base_uri": "https://localhost:8080/"
    },
    "id": "GqVFfswyhEeJ",
    "outputId": "4292b83f-cbe1-4cb6-f9bd-2f8995ce103a"
   },
   "outputs": [
    {
     "data": {
      "text/plain": [
       "LinearRegression(copy_X=True, fit_intercept=True, n_jobs=None, normalize=False)"
      ]
     },
     "execution_count": 26,
     "metadata": {
      "tags": []
     },
     "output_type": "execute_result"
    }
   ],
   "source": [
    "from sklearn.linear_model import LinearRegression\n",
    "regressor = LinearRegression()\n",
    "regressor.fit(X_train, y_train)"
   ]
  },
  {
   "cell_type": "code",
   "execution_count": null,
   "metadata": {
    "colab": {
     "base_uri": "https://localhost:8080/"
    },
    "id": "xNGhU3IDhGsi",
    "outputId": "56bef712-f978-43b1-900e-13cb3e1e321c"
   },
   "outputs": [
    {
     "name": "stdout",
     "output_type": "stream",
     "text": [
      "8.474316250696893\n",
      "-1.8725614366730179\n"
     ]
    }
   ],
   "source": [
    "y_pred = regressor.predict(X_test)\n",
    "from sklearn.metrics import mean_squared_error\n",
    "mse = mean_squared_error(y_test, y_pred)\n",
    "r2_score = regressor.score(X_test, y_test)\n",
    "print(np.sqrt(mse))\n",
    "print(r2_score)"
   ]
  },
  {
   "cell_type": "code",
   "execution_count": null,
   "metadata": {
    "colab": {
     "base_uri": "https://localhost:8080/",
     "height": 279
    },
    "id": "Uxv59uIqhIwZ",
    "outputId": "4b2db2fb-e7cc-452f-883a-e377e0ea3c58"
   },
   "outputs": [
    {
     "data": {
      "image/png": "[encoded data removed]",
      "text/plain": [
       "<Figure size 432x288 with 1 Axes>"
      ]
     },
     "metadata": {
      "needs_background": "light",
      "tags": []
     },
     "output_type": "display_data"
    }
   ],
   "source": [
    "plt.plot(x, Y, color='#58b970', label='Regression Line')\n",
    "\n",
    "# Ploting Scatter Points\n",
    "plt.scatter(A, B, c='#ef5423', label='Scatter Plot')\n",
    "plt.xlabel('Year')\n",
    "plt.ylabel('Wins for team batting first')\n",
    "plt.legend()\n",
    "plt.show()"
   ]
  },
  {
   "cell_type": "markdown",
   "metadata": {
    "id": "_iCmAAGnsOzy"
   },
   "source": [
    "Testing the year 2020"
   ]
  },
  {
   "cell_type": "code",
   "execution_count": null,
   "metadata": {
    "colab": {
     "base_uri": "https://localhost:8080/"
    },
    "id": "IMrrOUQEsOVT",
    "outputId": "9b0192da-be80-4ac2-9ad6-b37072b584c4"
   },
   "outputs": [
    {
     "name": "stdout",
     "output_type": "stream",
     "text": [
      "Team batting first will win 27 times\n"
     ]
    }
   ],
   "source": [
    "x=2020\n",
    "y=int(b0 + b1 * x)\n",
    "print(\"Team batting first will win\",y,\"times\")"
   ]
  },
  {
   "cell_type": "markdown",
   "metadata": {
    "id": "LcRZ7jV9MVdt"
   },
   "source": [
    "#Simple Linear Regression - Relation b/w balls faced with the no. of boundaries"
   ]
  },
  {
   "cell_type": "code",
   "execution_count": null,
   "metadata": {
    "colab": {
     "base_uri": "https://localhost:8080/"
    },
    "id": "7BShqCm2d2c5",
    "outputId": "4590838e-9228-4997-c7af-7eb76a9d8b11"
   },
   "outputs": [
    {
     "name": "stdout",
     "output_type": "stream",
     "text": [
      "3.4538469469285147\n",
      "0.20678934629966106\n"
     ]
    }
   ],
   "source": [
    "from sklearn.linear_model import LinearRegression\n",
    "from sklearn.metrics import mean_squared_error\n",
    "from sklearn.preprocessing import LabelEncoder\n",
    "ipl['winner']=ipl['winner'].replace(np.nan, 'none', regex=True)\n",
    "labelencoder = LabelEncoder()\n",
    "\n",
    "x=labelencoder.fit_transform(ipl['toss_winner'])\n",
    "y=labelencoder.fit_transform(ipl['winner'].values)\n",
    "x=x.reshape((len(x),1))\n",
    "reg=LinearRegression().fit(x,y)\n",
    "\n",
    "y_pred=reg.predict(x)\n",
    "mse=mean_squared_error(y,y_pred)\n",
    "r2_score=reg.score(x,y)\n",
    "\n",
    "print(np.sqrt(mse))\n",
    "print(r2_score)"
   ]
  },
  {
   "cell_type": "code",
   "execution_count": null,
   "metadata": {
    "colab": {
     "base_uri": "https://localhost:8080/"
    },
    "id": "7cEfJ065MZ-F",
    "outputId": "2bbd11aa-549e-4be8-88a6-220a18e6fcec"
   },
   "outputs": [
    {
     "name": "stdout",
     "output_type": "stream",
     "text": [
      "-12.84 + 0.13 x\n"
     ]
    }
   ],
   "source": [
    "X=bats['BF'].values\n",
    "y=bats['4s'].values\n",
    "A=X\n",
    "B=y\n",
    "m_x=np.mean(X)\n",
    "m_y=np.mean(y)\n",
    "n=len(X)\n",
    "\n",
    "numer=0\n",
    "denom=0\n",
    "\n",
    "for i in range(n):\n",
    "    numer+=(X[i]-m_x)*(y[i]-m_y)\n",
    "    denom+=(X[i]-m_x)**2\n",
    "b1=round(numer/denom,2)\n",
    "b0=round(m_y -(b1*m_x),2)\n",
    "print(str(b0),'+',str(b1),'x')\n",
    "\n",
    "max_x = np.max(X) + 100\n",
    "min_x = np.min(X) - 100\n",
    "\n",
    "# Calculating line values x and y\n",
    "\n",
    "x = np.linspace(min_x, max_x, 1000) # Returns number spaces evenly w.r.t interval\n",
    "Y = b0 + b1 * x\n",
    "X=X.reshape((len(X),1))"
   ]
  },
  {
   "cell_type": "code",
   "execution_count": null,
   "metadata": {
    "id": "aq6CQnc0NF8z"
   },
   "outputs": [],
   "source": [
    "from sklearn.model_selection import train_test_split\n",
    "X_train, X_test, y_train, y_test = train_test_split(X, y, test_size = 0.2, random_state = 10)"
   ]
  },
  {
   "cell_type": "code",
   "execution_count": null,
   "metadata": {
    "colab": {
     "base_uri": "https://localhost:8080/"
    },
    "id": "glZBHWvwNUgv",
    "outputId": "c2cf867f-1494-41d0-f669-482d2b44cc95"
   },
   "outputs": [
    {
     "data": {
      "text/plain": [
       "LinearRegression(copy_X=True, fit_intercept=True, n_jobs=None, normalize=False)"
      ]
     },
     "execution_count": 175,
     "metadata": {
      "tags": []
     },
     "output_type": "execute_result"
    }
   ],
   "source": [
    "from sklearn.linear_model import LinearRegression\n",
    "regressor = LinearRegression()\n",
    "regressor.fit(X_train, y_train)"
   ]
  },
  {
   "cell_type": "code",
   "execution_count": null,
   "metadata": {
    "colab": {
     "base_uri": "https://localhost:8080/"
    },
    "id": "3vlyuyw6OmhO",
    "outputId": "40c7643e-bc83-4d88-db59-644cf202808b"
   },
   "outputs": [
    {
     "name": "stdout",
     "output_type": "stream",
     "text": [
      "41.06601531507432\n",
      "0.9127368783296472\n"
     ]
    }
   ],
   "source": [
    "y_pred = regressor.predict(X_test)\n",
    "from sklearn.metrics import mean_squared_error\n",
    "mse = mean_squared_error(y_test, y_pred)\n",
    "r2_score = regressor.score(X_test, y_test)\n",
    "print(np.sqrt(mse))\n",
    "print(r2_score)"
   ]
  },
  {
   "cell_type": "code",
   "execution_count": null,
   "metadata": {
    "colab": {
     "base_uri": "https://localhost:8080/",
     "height": 279
    },
    "id": "i5myoe3bP8yH",
    "outputId": "ce4d6143-0c25-451b-d464-3d16a8c0b2e4"
   },
   "outputs": [
    {
     "data": {
      "image/png": "[encoded data removed]",
      "text/plain": [
       "<Figure size 432x288 with 1 Axes>"
      ]
     },
     "metadata": {
      "needs_background": "light",
      "tags": []
     },
     "output_type": "display_data"
    }
   ],
   "source": [
    "plt.plot(x, Y, color='#58b970', label='Regression Line')\n",
    "\n",
    "# Ploting Scatter Points\n",
    "\n",
    "plt.scatter(A, B, c='#ef5423', label='Scatter Plot')\n",
    "plt.xlabel('Deliveries faced')\n",
    "plt.ylabel('4s hit')\n",
    "plt.legend()\n",
    "plt.show()"
   ]
  },
  {
   "cell_type": "markdown",
   "metadata": {
    "id": "YbIX8zrGQt1Y"
   },
   "source": [
    "Test a Player . Player considered is Virat Kohli"
   ]
  },
  {
   "cell_type": "code",
   "execution_count": null,
   "metadata": {
    "colab": {
     "base_uri": "https://localhost:8080/"
    },
    "id": "yPRyzIcLQs6A",
    "outputId": "fbd1c44a-d618-4c88-cf7f-056daa9a996a"
   },
   "outputs": [
    {
     "name": "stdout",
     "output_type": "stream",
     "text": [
      "After 4512 deliveries , Virat would have scored 573 Boundaries by the way he is playing\n"
     ]
    }
   ],
   "source": [
    "x=bats[bats['PLAYER']=='Virat Kohli']['BF']+400\n",
    "y= b0 + b1 * x\n",
    "print(\"After\",int(x[0]),\"deliveries , Virat would have scored\",int(y[0]),\"Boundaries by the way he is playing\")"
   ]
  },
  {
   "cell_type": "markdown",
   "metadata": {
    "id": "OdgSZtJNWRJp"
   },
   "source": [
    "#Multiple Linear Regression - Based on Innings, runs , deliveries faced,4s,6s predict the strike rate for a player"
   ]
  },
  {
   "cell_type": "code",
   "execution_count": null,
   "metadata": {
    "id": "jgWIg6UUWiN5"
   },
   "outputs": [],
   "source": [
    "X=bats[['Inns','Runs','BF','4s','6s']].values\n",
    "Y=bats['SR'].values\n",
    "X=X.reshape(len(X),5)"
   ]
  },
  {
   "cell_type": "code",
   "execution_count": null,
   "metadata": {
    "id": "cUMWt6suYE5S"
   },
   "outputs": [],
   "source": [
    "from sklearn.model_selection import train_test_split\n",
    "X_train, X_test, y_train, y_test = train_test_split(X, Y, test_size = 0.2, random_state = 10)"
   ]
  },
  {
   "cell_type": "code",
   "execution_count": null,
   "metadata": {
    "id": "WnmK0j78Y6HS"
   },
   "outputs": [],
   "source": [
    "from sklearn.linear_model import LinearRegression\n",
    "regressor = LinearRegression()\n",
    "regressor.fit(X_train, y_train)"
   ]
  },
  {
   "cell_type": "code",
   "execution_count": null,
   "metadata": {
    "colab": {
     "base_uri": "https://localhost:8080/"
    },
    "id": "fmcyoPQzY-wp",
    "outputId": "efb7dc28-4498-4cdd-9f41-6058a3005327"
   },
   "outputs": [
    {
     "name": "stdout",
     "output_type": "stream",
     "text": [
      "5.3560578510626895\n",
      "0.594947598078166\n"
     ]
    }
   ],
   "source": [
    "y_pred = regressor.predict(X_test)\n",
    "from sklearn.metrics import mean_squared_error\n",
    "mse = mean_squared_error(y_test, y_pred)\n",
    "r2_score = regressor.score(X_test, y_test)\n",
    "print(np.sqrt(mse))\n",
    "print(r2_score)"
   ]
  },
  {
   "cell_type": "code",
   "execution_count": null,
   "metadata": {
    "colab": {
     "base_uri": "https://localhost:8080/"
    },
    "id": "TiM1xdyVZO2B",
    "outputId": "f1a70f4f-c216-432a-b85a-23f3a73b8889"
   },
   "outputs": [
    {
     "name": "stdout",
     "output_type": "stream",
     "text": [
      "The average strike rate for Dhoni after the following changes , is 133.9\n"
     ]
    }
   ],
   "source": [
    "b0=regressor.intercept_\n",
    "b1=regressor.coef_\n",
    "x=bats[bats['PLAYER']=='MS Dhoni'][['Inns','Runs','BF','4s','6s']].values\n",
    "x[0][0]+=10\n",
    "x[0][1]+=200\n",
    "x[0][2]+=150\n",
    "x[0][3]+=20\n",
    "x[0][4]+=6\n",
    "y=0\n",
    "for i in range(len(x)):\n",
    "    y+=b1[i]*x[0][i]\n",
    "y+=b0\n",
    "print(\"The average strike rate for Dhoni after the following changes is\",round(y,1))"
   ]
  }
 ],
 "metadata": {
  "colab": {
   "collapsed_sections": [
    "zs2bHc5I0MFp",
    "hIagB_i9gwuu",
    "OdgSZtJNWRJp"
   ],
   "name": "group_project.ipynb",
   "provenance": []
  },
  "kernelspec": {
   "display_name": "Python 3",
   "language": "python",
   "name": "python3"
  },
  "language_info": {
   "codemirror_mode": {
    "name": "ipython",
    "version": 3
   },
   "file_extension": ".py",
   "mimetype": "text/x-python",
   "name": "python",
   "nbconvert_exporter": "python",
   "pygments_lexer": "ipython3",
   "version": "3.8.5"
  }
 },
 "nbformat": 4,
 "nbformat_minor": 1
}
